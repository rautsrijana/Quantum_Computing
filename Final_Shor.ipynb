{
  "cells": [
    {
      "cell_type": "markdown",
      "metadata": {
        "id": "1hq2BHSsSkVC"
      },
      "source": [
        "# Shor's algorithm\n",
        "\n",
        "Shor's algorithm, named after mathematician Peter Shor, is a quantum algorithm developed in 1994. It is designed to solve the problem of integer factorization on a quantum computer. In simple terms, the algorithm aims to find the prime factors of a given integer, N.\n",
        "\n",
        "\n",
        "\n",
        "## Overview\n",
        "\n",
        "*Lemma*: Factoring is equivalent to finding a nontrivial squareroot of 1 mod N.\n",
        "\n",
        "## Problem Statement\n",
        "\n",
        "Traditional or classical algorithms for factorization require exponential time as the size of the number increases, making them computationally expensive for large numbers. \n",
        "\n",
        "\n",
        "**Complexity:**\n",
        "\n",
        "- Complexity on quantum computer: $\\quad \\mathcal{O}\\;\\Big((\\log N)^2(\\log \\log N)(\\log \\log \\log N)\\Big)$\n",
        "\n",
        "- Complexity on classical computer: $\\quad \\mathcal{O}\\; \\Big(e^{1.9(\\log N)^{\\frac{1}{3}}(\\log \\log N)^{\\frac{2}{3}}} \\Big)$\n",
        "\n",
        "\n",
        "Shor's algorithm, on the other hand, takes advantage of the unique properties of quantum computers to provide a significant speedup for factorization.\n",
        "\n",
        "By leveraging principles of quantum superposition and quantum interference, Shor's algorithm can efficiently find the prime factors of an integer. It achieves this by utilizing two main components: a quantum Fourier transform and a period-finding subroutine.\n",
        "\n",
        "The quantum Fourier transform helps to encode the information about the factors into the quantum state of the computer, while the period-finding subroutine is responsible for extracting this information by finding the period of a particular function.\n",
        "\n",
        "By combining these elements, Shor's algorithm can identify the prime factors of an integer significantly faster than classical algorithms, making it a powerful tool for certain applications such as breaking cryptographic systems based on integer factorization.\n",
        "\n",
        "\n",
        "In summary, Shor's algorithm is a quantum algorithm designed to efficiently factorize large integers by exploiting the unique properties of quantum computers, providing a significant speedup compared to classical factorization algorithms.\n",
        "\n",
        "\n",
        "\n",
        "## Structure of the algorithm\n",
        "\n",
        "\n",
        "Shor's algorithm can be divided into two main parts:\n",
        "\n",
        "1) **The classical part**: This part involves a reduction, which can be performed on a classical computer. It transforms the problem of factorization into the problem of finding the order of a specific mathematical operation.\n",
        "\n",
        "2) **The quantum part**: This part utilizes a quantum algorithm to solve the order-finding problem. It takes advantage of the unique properties of quantum computers, such as superposition and interference, to efficiently determine the order of the mathematical operation.\n",
        "\n",
        "In summary, Shor's algorithm combines a classical reduction step with a quantum algorithm to factorize integers. The classical part reduces the problem to order-finding, while the quantum part leverages quantum computing techniques to solve the order-finding problem efficiently.\n",
        "\n",
        "\n",
        "#### Shor's algorithm relies on a fundamental result from number theory, which states:\n",
        "\n",
        "*The function $ \\mathcal {F}$(a) = x^a mod n is a periodic function, where x is an integer coprime to n. In the context of Shor's algorithm,we are interested in using this function to factorize large numbers. When two numbers are coprime it means that their greatest common divisor is 1.*\n",
        "\n",
        "The reason why this function is of utility in factoring large numbers is the following:\n",
        "\n",
        "since $ \\mathcal {F}$(a) is a periodic function, it has some period r. We know that $x^0 \\ mod \\ n = 1$, so $x^r \\ mod \\ n = 1$, and $x^{2r} \\ mod \\ n = 1$, and so on since the function is periodic.\n",
        "\n",
        "$$\n",
        "x^r \\equiv 1 \\mod  n\n",
        "$$\n",
        "<br>\n",
        "$$\n",
        "(x^{r/2})^2 \\equiv x^r \\equiv 1 \\mod n\n",
        "$$\n",
        "<br>\n",
        "$$\n",
        "(x^{r/2})^2 - 1 \\equiv 0 \\mod n\n",
        "$$\n",
        "\n",
        "And if r is an even number:\n",
        "\n",
        "$$\n",
        "(x^{r/2}-1)(x^{r/2}+1) \\equiv 0 \\mod n\n",
        "$$\n",
        "\n",
        "This means that the product $(x^{r/2} -1)(x^{r/2} + 1)$ is an integer multiple of n, the number to be factored. So long as $x^{r/2}$ is not equal to $ \\pm 1$, then at least one of $(x^{r/2} - 1)$ or $(x^{r/2} + 1)$ must have a nontrivial factor in common with n. So by computing $gcd(x^{r/2} - 1, n)$, and $gcd(x^{r/2} + 1, n)$, we will obtain a factor of n, where gcd is the greatest common denominator function.\n",
        "\n"
      ]
    },
    {
      "cell_type": "markdown",
      "metadata": {
        "id": "1WOK3q76SkVH"
      },
      "source": [
        "### CLASSICAL PART"
      ]
    },
    {
      "cell_type": "code",
      "execution_count": 1,
      "metadata": {
        "ExecuteTime": {
          "end_time": "2019-03-10T16:13:02.148239Z",
          "start_time": "2019-03-10T16:13:02.102360Z"
        },
        "collapsed": true,
        "jupyter": {
          "outputs_hidden": true
        },
        "id": "KvMqpVtqSkVI"
      },
      "outputs": [],
      "source": [
        "import math\n",
        "import random\n",
        "import sys\n",
        "from fractions import Fraction\n",
        "from builtins import input\n",
        "\n",
        "def shor(N, attempts = 1):\n",
        "    \n",
        "    # build compilation engine list\n",
        "    rule_set = DecompositionRuleSet(modules=[projectq.libs.math,\n",
        "                                             projectq.setups.decompositions])\n",
        "    compilerengines = [AutoReplacer(rule_set),\n",
        "                       InstructionFilter(high_level_gates),\n",
        "                       TagRemover(),\n",
        "                       LocalOptimizer(3),\n",
        "                       AutoReplacer(rule_set),\n",
        "                       TagRemover(),\n",
        "                       LocalOptimizer(3)]\n",
        "\n",
        "    # make the compiler and run the circuit on the simulator backend\n",
        "    eng = MainEngine(Simulator(), compilerengines)\n",
        "    \n",
        "    for attempt in range(attempts):\n",
        "        print(\"-----------------------------------\")\n",
        "        print(\"\\nAttempt #\" + str(attempt))\n",
        "        \n",
        "        x = random.randint(0, N)\n",
        "        print(\"Random x between 0 and N-1 --> \", str(x))\n",
        "        \n",
        "        '''If the GCD is not 1, x is a nontrivial factor of N, so we're done'''\n",
        "        if (math.gcd(x, N) != 1):\n",
        "            print(\"\\nFactors found classically, re-attempt...\")\n",
        "            continue\n",
        "        \n",
        "        '''Otherwise it means that x and N are coprime\n",
        "        Here the quantum part starts: Shor's algorithm tries to find r, the period of x^a mod n, where n is \n",
        "        the number to be factored and x is an integer coprime to n.\n",
        "        It is important to underline the r  is the smallest positive integer such that x^r = 1 mod N\n",
        "        '''\n",
        "        r = find_period(eng, N, x, verbose=False)\n",
        "        \n",
        "        '''If r is odd or if x^r/2 = -1 (mod N), choose another x\n",
        "        EXPLANATION: we already know that x^r/2 is NOT congruent to 1 (mod N), otherwise the order of x would be r/2,\n",
        "        instead of r. So we have to check only that x^r/2 is NOT congruent to -1 (mod N)\n",
        "        '''\n",
        "        if ((r % 2 != 0) or (pow(x, int(r/2), N) == -1)): \n",
        "            print(\"r is odd or x^r/2 = -1 (mod N), re-attempt...\")\n",
        "            continue\n",
        "            \n",
        "        print(\"\\nPeriod found: \" + str(r))\n",
        "        \n",
        "        p = math.gcd(x**int(r / 2) + 1, N)\n",
        "        q = math.gcd(x**int(r / 2) - 1, N)\n",
        "        \n",
        "        if ((not p * q == N) and p * q > 1 and int(1. * N / (p * q)) * p * q == N):\n",
        "            p, q = p * q, int(N / (p * q))\n",
        "        if p * q == N and p > 1 and q > 1:\n",
        "            print(\"\\nFactors found: {} * {} = {}.\".format(p, q, N))\n",
        "            break\n",
        "        else:\n",
        "            print(\"\\nBad luck: Found {} and {}\".format(p, q))"
      ]
    },
    {
      "cell_type": "markdown",
      "metadata": {
        "id": "uHLonu_JSkVI"
      },
      "source": [
        "### Phases:\n",
        "**1)** The initial step of the Shor algorithm involves preparing a quantum register and dividing it into two parts: register 1 and register 2. This division allows us to represent and manipulate different ranges of integers.\n",
        "\n",
        "Register 1 should have a sufficient number of qubits to represent integers as large as q - 1, where q is chosen to be a power of 2, satisfying the condition: n^2 ≤ q < 2n^2. The precise number of qubits required for register 1 would be determined based on the specific value of q and determined using classical computations.\n",
        "\n",
        "Register 2, on the other hand, should have enough qubits to represent integers as large as n - 1, where n is the number we aim to factorize. Again, the number of qubits needed for register 2 would depend on the size of n and can be determined using classical calculations.\n",
        "\n",
        "**2)** Once the registers are established, the next step is the initialization phase. In this step, register 1 is put into a uniform superposition, meaning it is in an equally weighted superposition of all integers from 0 to q - 1.  At the same time, register 2 is initialized with all zeros.\n",
        "\n",
        "\n",
        "$$\n",
        "\\frac{1}{\\sqrt{q}} \\sum_{a=0}^{q-1} |a\\rangle|0\\rangle\n",
        "$$\n",
        "\n",
        "**3)** Next, we apply the transformation $x^a \\mod n$ to each number stored in register 1 and store the resulting values in register 2. The new state is;\n",
        "\n",
        "$$\n",
        "\\frac{1}{\\sqrt{q}} \\sum_{a=0}^{q-1} |a,x^a \\mod n\\rangle\n",
        "$$\n",
        "\n",
        "\n",
        "\n",
        "**4)** After applying the transformation and storing the results in register 2, the next step is to measure the values in register 2. When we perform the measurement, we obtain a specific value, denoted as \"k\". This measurement has a side effect, causing register 1 to collapse into an equal superposition of each value \"a\" between 0 and q - 1, where \"a\" satisfies the condition that $x^a \\mod n = k$.The new state is:\n",
        "\n",
        "$$\n",
        "\\frac{1}{\\sqrt{||A||}} \\sum_{a'=a' \\in A} |a',k\\rangle\n",
        "$$\n",
        "\n",
        "Where A is the set of *a*'s such that ${x^a \\ mod \\ n = k}$, and $||A||$ is the number of elements in that set.\n",
        "\n",
        "**5)** By applying the Quantum Fourier Transform (QFT) to register one, our goal is to accumulate the desired state $|a, x^a \\ (\\text{mod} \\ n) \\rangle$ in a way that it can be observed with a significant probability.\n",
        "\n",
        "When the QFT is applied to a state $|a\\rangle$, it transforms the state in the following manner:\n",
        "\n",
        "$$\n",
        "|a\\rangle = \\frac{1}{\\sqrt{q}} \\sum_{c=0}^{q-1} |c\\rangle * e^{2\\pi i a c / q}\n",
        "$$\n",
        "\n",
        "So, the new state is:\n",
        "\n",
        "$$\n",
        "\\frac{1}{\\sqrt{||A||}} \\sum_{a' \\in A} \\frac{1}{\\sqrt{q}} \\sum_{c=0}^{q-1} |c,k\\rangle * e^{2\\pi i a' c / q}\n",
        "$$\n",
        "\n",
        "**6)** Next, we proceed to measure the state of register one, resulting in an observed value, which we denote as 'm'. The crucial aspect is that 'm' has a significantly high probability of being a multiple of 'q/r', where 'r' represents the desired period.\n",
        "\n",
        "**7)** In this step, we repeat the algorithm to obtain multiple distinct multiples of 'q/r'. By accumulating enough of these measured values, we can then compute their greatest common divisor (GCD) using Euclid's algorithm. This computation allows us to retrieve the value of 'q/r'. Since 'q' is known from the problem, it becomes straightforward to determine the value of 'r' through this calculation. \n",
        "\n",
        "\n",
        "--------------------------------------------------------------------------------------------------------------------------------\n",
        "**NOTE: Under the assumption that the period 'r' divides 'q' and the condition 'q/r > 2r' holds, let's consider the scenario where we measure a value 'L' at the end of the quantum algorithm.\n",
        "\n",
        "The claim is that there exists an integer 't' \n",
        "\n",
        "- **L is the output of the algorithm**\n",
        "- **q is kwnown**\n",
        "- **r is the period we want to retrieve**\n",
        "- **t is unknown**\n",
        "\n",
        "**How do we find both t and r?**\n",
        " \n",
        " It replicts, 'L/q' is approximately equal to 't/r'. with a denominator as small as r, so we use the fact that r is much smaller than $\\sqrt{q}$.\n",
        "\n",
        "To determine both 't' and 'r', we utilize a technique called continued fractions. This technique allows us to reconstruct the ratio 't/r' with a denominator as small as 'r'. Notably, since 'r' is much smaller than the square root of 'q', this reconstruction can be performed efficiently on a classical computer.\n"
      ]
    },
    {
      "cell_type": "markdown",
      "metadata": {
        "id": "qXQlatLYSkVK"
      },
      "source": [
        "#### Numerical example\n",
        "\n",
        "We want to find the period of the function ${f(x) = x \\mod 2}$.\n",
        "\n",
        "It is easy to see that the period is 2.\n",
        "\n",
        "We will use a 3-qubit system, so that q = 8. \n",
        "\n",
        "$$\n",
        "|0\\rangle|0\\rangle \\xrightarrow{\\text{QFT}} \\frac{1}{\\sqrt{8}} \\sum_{x=0}^{7} |x\\rangle|0\\rangle\n",
        "$$\n",
        "<br>\n",
        "$$\n",
        "\\frac{1}{\\sqrt{8}} \\sum_{x=0}^{7} |x\\rangle|0\\rangle \\xrightarrow{\\text{Uf}} \\frac{1}{\\sqrt{8}} \\sum_{x=0}^{7} |x\\rangle|x \\mod 2\\rangle\n",
        "$$\n",
        "\n",
        "Now we measure |$f\\rangle$. Then |$f\\rangle$ will collapse into either |0$\\rangle$ or |1$\\rangle$\n",
        "\n",
        "Let's suppose that our measurement returns $|f(x)\\rangle$ = |1$\\rangle$\n",
        "\n",
        "$$\n",
        "\\frac{1}{\\sqrt{8}} \\sum_{x=0}^{7} |x\\rangle \\otimes |f(x)\\rangle \\xrightarrow{\\text{measure f}} \\frac{1}{2} (|1\\rangle + |3\\rangle + |5\\rangle + |7\\rangle) \\otimes |1\\rangle\n",
        "$$\n",
        "\n",
        "Now we need to extract the period of the first register, applying again the Fourier transform\n",
        "\n",
        "$$\n",
        "\\frac{1}{2} (|1\\rangle + |3\\rangle + |5\\rangle + |7\\rangle) \\xrightarrow{\\text{QFT}} \\frac{1}{\\sqrt{2}} (|0\\rangle - |4\\rangle)\n",
        "$$\n",
        "\n",
        "Finally, if we take a few measurements we will be sure to measure both |$0\\rangle$ and |$4\\rangle$.\n",
        "\n",
        "Therefore q/r = 4, and since q = 8, it is clear that r = 2."
      ]
    },
    {
      "cell_type": "code",
      "source": [
        "!pip install projectq"
      ],
      "metadata": {
        "colab": {
          "base_uri": "https://localhost:8080/"
        },
        "id": "9HC4plTPByXy",
        "outputId": "50d5145d-09c7-46d9-9626-957360d28094"
      },
      "execution_count": 3,
      "outputs": [
        {
          "output_type": "stream",
          "name": "stdout",
          "text": [
            "Looking in indexes: https://pypi.org/simple, https://us-python.pkg.dev/colab-wheels/public/simple/\n",
            "Collecting projectq\n",
            "  Downloading projectq-0.8.0.tar.gz (433 kB)\n",
            "\u001b[2K     \u001b[90m━━━━━━━━━━━━━━━━━━━━━━━━━━━━━━━━━━━━━━━\u001b[0m \u001b[32m433.7/433.7 kB\u001b[0m \u001b[31m7.4 MB/s\u001b[0m eta \u001b[36m0:00:00\u001b[0m\n",
            "\u001b[?25h  Installing build dependencies ... \u001b[?25l\u001b[?25hdone\n",
            "  Getting requirements to build wheel ... \u001b[?25l\u001b[?25hdone\n",
            "  Preparing metadata (pyproject.toml) ... \u001b[?25l\u001b[?25hdone\n",
            "Requirement already satisfied: matplotlib>=2.2.3 in /usr/local/lib/python3.10/dist-packages (from projectq) (3.7.1)\n",
            "Requirement already satisfied: networkx>=2 in /usr/local/lib/python3.10/dist-packages (from projectq) (3.1)\n",
            "Requirement already satisfied: numpy in /usr/local/lib/python3.10/dist-packages (from projectq) (1.22.4)\n",
            "Requirement already satisfied: requests in /usr/local/lib/python3.10/dist-packages (from projectq) (2.27.1)\n",
            "Requirement already satisfied: scipy in /usr/local/lib/python3.10/dist-packages (from projectq) (1.10.1)\n",
            "Requirement already satisfied: contourpy>=1.0.1 in /usr/local/lib/python3.10/dist-packages (from matplotlib>=2.2.3->projectq) (1.0.7)\n",
            "Requirement already satisfied: cycler>=0.10 in /usr/local/lib/python3.10/dist-packages (from matplotlib>=2.2.3->projectq) (0.11.0)\n",
            "Requirement already satisfied: fonttools>=4.22.0 in /usr/local/lib/python3.10/dist-packages (from matplotlib>=2.2.3->projectq) (4.39.3)\n",
            "Requirement already satisfied: kiwisolver>=1.0.1 in /usr/local/lib/python3.10/dist-packages (from matplotlib>=2.2.3->projectq) (1.4.4)\n",
            "Requirement already satisfied: packaging>=20.0 in /usr/local/lib/python3.10/dist-packages (from matplotlib>=2.2.3->projectq) (23.1)\n",
            "Requirement already satisfied: pillow>=6.2.0 in /usr/local/lib/python3.10/dist-packages (from matplotlib>=2.2.3->projectq) (8.4.0)\n",
            "Requirement already satisfied: pyparsing>=2.3.1 in /usr/local/lib/python3.10/dist-packages (from matplotlib>=2.2.3->projectq) (3.0.9)\n",
            "Requirement already satisfied: python-dateutil>=2.7 in /usr/local/lib/python3.10/dist-packages (from matplotlib>=2.2.3->projectq) (2.8.2)\n",
            "Requirement already satisfied: urllib3<1.27,>=1.21.1 in /usr/local/lib/python3.10/dist-packages (from requests->projectq) (1.26.15)\n",
            "Requirement already satisfied: certifi>=2017.4.17 in /usr/local/lib/python3.10/dist-packages (from requests->projectq) (2022.12.7)\n",
            "Requirement already satisfied: charset-normalizer~=2.0.0 in /usr/local/lib/python3.10/dist-packages (from requests->projectq) (2.0.12)\n",
            "Requirement already satisfied: idna<4,>=2.5 in /usr/local/lib/python3.10/dist-packages (from requests->projectq) (3.4)\n",
            "Requirement already satisfied: six>=1.5 in /usr/local/lib/python3.10/dist-packages (from python-dateutil>=2.7->matplotlib>=2.2.3->projectq) (1.16.0)\n",
            "Building wheels for collected packages: projectq\n",
            "  Building wheel for projectq (pyproject.toml) ... \u001b[?25l\u001b[?25hdone\n",
            "  Created wheel for projectq: filename=projectq-0.8.0-cp310-cp310-linux_x86_64.whl size=3039384 sha256=1265182b19fc53b192c4b4d53868754faabf9ad071c2eb7144e0fa3b087631a2\n",
            "  Stored in directory: /root/.cache/pip/wheels/93/7d/94/e9101f82d3952d893d536e930bc11f1f70b2f44e1b7b8c8b9f\n",
            "Successfully built projectq\n",
            "Installing collected packages: projectq\n",
            "Successfully installed projectq-0.8.0\n"
          ]
        }
      ]
    },
    {
      "cell_type": "code",
      "execution_count": 4,
      "metadata": {
        "ExecuteTime": {
          "end_time": "2019-03-10T15:15:12.185240Z",
          "start_time": "2019-03-10T15:15:12.174270Z"
        },
        "collapsed": true,
        "jupyter": {
          "outputs_hidden": true
        },
        "id": "j6tbpbw5SkVL"
      },
      "outputs": [],
      "source": [
        "import projectq.libs.math\n",
        "import projectq.setups.decompositions\n",
        "from projectq.backends import Simulator, ResourceCounter\n",
        "from projectq.cengines import (AutoReplacer, DecompositionRuleSet,\n",
        "                               InstructionFilter, LocalOptimizer,\n",
        "                               MainEngine, TagRemover)\n",
        "from projectq.libs.math import (AddConstant, AddConstantModN,\n",
        "                                MultiplyByConstantModN)\n",
        "from projectq.meta import Control\n",
        "from projectq.ops import (All, BasicMathGate, get_inverse, H, Measure, QFT, R,\n",
        "                          Swap, X)"
      ]
    },
    {
      "cell_type": "code",
      "execution_count": 1,
      "metadata": {
        "ExecuteTime": {
          "end_time": "2019-03-10T14:52:21.538723Z",
          "start_time": "2019-03-10T14:52:21.523798Z"
        },
        "collapsed": true,
        "jupyter": {
          "outputs_hidden": true
        },
        "id": "pIxmC-BkSkVL"
      },
      "outputs": [],
      "source": [
        "'''As said in ProjectQ webpage --> \"Simulating Shor s algorithm at the level of single-qubits gates and CNOTs already takes\n",
        "quite a big of time for larger numbers than 15.\"\n",
        "Returning TRUE allows to use the emulation feature, which does not decompose the modular arithmetic to low-level gates.'''\n",
        "def high_level_gates(eng, cmd):\n",
        "    return True"
      ]
    },
    {
      "cell_type": "code",
      "execution_count": 6,
      "metadata": {
        "ExecuteTime": {
          "end_time": "2019-03-10T14:52:24.612407Z",
          "start_time": "2019-03-10T14:52:24.441858Z"
        },
        "collapsed": true,
        "jupyter": {
          "outputs_hidden": true
        },
        "id": "WvYR7NhPSkVM"
      },
      "outputs": [],
      "source": [
        "def find_period(eng, N, a, verbose=False):\n",
        "    \n",
        "    n = int(math.ceil(math.log(N, 2))) # log2(N)\n",
        "\n",
        "    x = eng.allocate_qureg(n)\n",
        "\n",
        "    '''Pauli-X gate: acts on a single qubit. It is the quantum equivalent of the NOT gate for classical computers'''\n",
        "    X | x[0]\n",
        "\n",
        "    measurements = [0] * (2 * n)  # will hold the 2n measurement results\n",
        "\n",
        "    ctrl_qubit = eng.allocate_qubit()\n",
        "\n",
        "    for k in range(2 * n):\n",
        "        '''Compute a^x mod N conditioned on a control qubit ctrl_qubit in a uniform superposition of 0 and 1'''\n",
        "        current_a = pow(a, 1 << (2 * n - 1 - k), N) # << is binary left shift, so we are computing a^(2^(2n-1-k)) mod N\n",
        "        # one iteration of 1-qubit QPE (Quantum Phase Estimation)\n",
        "        H | ctrl_qubit\n",
        "        with Control(eng, ctrl_qubit):\n",
        "            MultiplyByConstantModN(current_a, N) | x\n",
        "\n",
        "        # perform semi-classical inverse QFT --> Rotations conditioned on previous outcomes\n",
        "        for i in range(k):\n",
        "            if measurements[i]:\n",
        "                R(-math.pi/(1 << (k - i))) | ctrl_qubit\n",
        "        \n",
        "        # final Hadamard of the inverse QFT\n",
        "        H | ctrl_qubit\n",
        "\n",
        "        # and measure\n",
        "        Measure | ctrl_qubit\n",
        "        eng.flush() # flush all gates and execute measurements\n",
        "        measurements[k] = int(ctrl_qubit)\n",
        "        if measurements[k]:\n",
        "            X | ctrl_qubit # reset\n",
        "\n",
        "        if verbose:\n",
        "            print(\"\\033[95m{}\\033[0m\".format(measurements[k]), end=\"\")\n",
        "            sys.stdout.flush()\n",
        "\n",
        "    All(Measure) | x # shortcut (instance of) projectq.ops.Tensor\n",
        "    # turn the measured values into a number in [0,1)\n",
        "    y = sum([(measurements[2 * n - 1 - i]*1. / (1 << (i + 1)))\n",
        "             for i in range(2 * n)])\n",
        "\n",
        "    # continued fraction expansion to get denominator (the period)\n",
        "    r = Fraction(y).limit_denominator(N-1).denominator\n",
        "\n",
        "    # return the (potential) period\n",
        "    return r"
      ]
    },
    {
      "cell_type": "code",
      "execution_count": 7,
      "metadata": {
        "ExecuteTime": {
          "end_time": "2019-03-10T16:13:08.871828Z",
          "start_time": "2019-03-10T16:13:08.828941Z"
        },
        "colab": {
          "base_uri": "https://localhost:8080/"
        },
        "id": "L2F7mzMZSkVN",
        "outputId": "d5aedfdc-8df1-4d98-e690-5dd67a90c927"
      },
      "outputs": [
        {
          "output_type": "stream",
          "name": "stdout",
          "text": [
            "-----------------------------------\n",
            "\n",
            "Attempt #0\n",
            "Random x between 0 and N-1 -->  14\n",
            "\n",
            "Period found: 2\n",
            "\n",
            "Bad luck: Found 15 and 1\n",
            "-----------------------------------\n",
            "\n",
            "Attempt #1\n",
            "Random x between 0 and N-1 -->  2\n",
            "r is odd or x^r/2 = -1 (mod N), re-attempt...\n",
            "-----------------------------------\n",
            "\n",
            "Attempt #2\n",
            "Random x between 0 and N-1 -->  15\n",
            "\n",
            "Factors found classically, re-attempt...\n"
          ]
        }
      ],
      "source": [
        "shor(15, 3)"
      ]
    },
    {
      "cell_type": "markdown",
      "metadata": {
        "id": "Ggw2EtsfSkVN"
      },
      "source": [
        "#### Qiskit circuit example with N = 15 and x = 2 "
      ]
    },
    {
      "cell_type": "code",
      "source": [
        "!pip install qiskit\n",
        "!pip install qiskit[visualization]\n",
        "!pip install 'qiskit[visualization]'"
      ],
      "metadata": {
        "colab": {
          "base_uri": "https://localhost:8080/"
        },
        "id": "rdyZeXV8CJTp",
        "outputId": "aaa7a2ba-3775-4ffa-fa11-b95331845be8"
      },
      "execution_count": 9,
      "outputs": [
        {
          "output_type": "stream",
          "name": "stdout",
          "text": [
            "Looking in indexes: https://pypi.org/simple, https://us-python.pkg.dev/colab-wheels/public/simple/\n",
            "Collecting qiskit\n",
            "  Downloading qiskit-0.43.1.tar.gz (9.6 kB)\n",
            "  Installing build dependencies ... \u001b[?25l\u001b[?25hdone\n",
            "  Getting requirements to build wheel ... \u001b[?25l\u001b[?25hdone\n",
            "  Installing backend dependencies ... \u001b[?25l\u001b[?25hdone\n",
            "  Preparing metadata (pyproject.toml) ... \u001b[?25l\u001b[?25hdone\n",
            "Collecting qiskit-terra==0.24.1 (from qiskit)\n",
            "  Downloading qiskit_terra-0.24.1-cp310-cp310-manylinux_2_17_x86_64.manylinux2014_x86_64.whl (5.9 MB)\n",
            "\u001b[2K     \u001b[90m━━━━━━━━━━━━━━━━━━━━━━━━━━━━━━━━━━━━━━━━\u001b[0m \u001b[32m5.9/5.9 MB\u001b[0m \u001b[31m35.0 MB/s\u001b[0m eta \u001b[36m0:00:00\u001b[0m\n",
            "\u001b[?25hCollecting qiskit-aer==0.12.0 (from qiskit)\n",
            "  Downloading qiskit_aer-0.12.0-cp310-cp310-manylinux_2_17_x86_64.manylinux2014_x86_64.whl (12.8 MB)\n",
            "\u001b[2K     \u001b[90m━━━━━━━━━━━━━━━━━━━━━━━━━━━━━━━━━━━━━━━━\u001b[0m \u001b[32m12.8/12.8 MB\u001b[0m \u001b[31m78.6 MB/s\u001b[0m eta \u001b[36m0:00:00\u001b[0m\n",
            "\u001b[?25hCollecting qiskit-ibmq-provider==0.20.2 (from qiskit)\n",
            "  Downloading qiskit_ibmq_provider-0.20.2-py3-none-any.whl (241 kB)\n",
            "\u001b[2K     \u001b[90m━━━━━━━━━━━━━━━━━━━━━━━━━━━━━━━━━━━━━━\u001b[0m \u001b[32m241.5/241.5 kB\u001b[0m \u001b[31m14.0 MB/s\u001b[0m eta \u001b[36m0:00:00\u001b[0m\n",
            "\u001b[?25hRequirement already satisfied: numpy>=1.16.3 in /usr/local/lib/python3.10/dist-packages (from qiskit-aer==0.12.0->qiskit) (1.22.4)\n",
            "Requirement already satisfied: scipy>=1.0 in /usr/local/lib/python3.10/dist-packages (from qiskit-aer==0.12.0->qiskit) (1.10.1)\n",
            "Requirement already satisfied: requests>=2.19 in /usr/local/lib/python3.10/dist-packages (from qiskit-ibmq-provider==0.20.2->qiskit) (2.27.1)\n",
            "Collecting requests-ntlm<=1.1.0 (from qiskit-ibmq-provider==0.20.2->qiskit)\n",
            "  Downloading requests_ntlm-1.1.0-py2.py3-none-any.whl (5.7 kB)\n",
            "Requirement already satisfied: urllib3>=1.21.1 in /usr/local/lib/python3.10/dist-packages (from qiskit-ibmq-provider==0.20.2->qiskit) (1.26.15)\n",
            "Requirement already satisfied: python-dateutil>=2.8.0 in /usr/local/lib/python3.10/dist-packages (from qiskit-ibmq-provider==0.20.2->qiskit) (2.8.2)\n",
            "Requirement already satisfied: websocket-client>=1.5.1 in /usr/local/lib/python3.10/dist-packages (from qiskit-ibmq-provider==0.20.2->qiskit) (1.5.1)\n",
            "Collecting websockets>=10.0 (from qiskit-ibmq-provider==0.20.2->qiskit)\n",
            "  Downloading websockets-11.0.3-cp310-cp310-manylinux_2_5_x86_64.manylinux1_x86_64.manylinux_2_17_x86_64.manylinux2014_x86_64.whl (129 kB)\n",
            "\u001b[2K     \u001b[90m━━━━━━━━━━━━━━━━━━━━━━━━━━━━━━━━━━━━━━\u001b[0m \u001b[32m129.9/129.9 kB\u001b[0m \u001b[31m13.7 MB/s\u001b[0m eta \u001b[36m0:00:00\u001b[0m\n",
            "\u001b[?25hCollecting rustworkx>=0.12.0 (from qiskit-terra==0.24.1->qiskit)\n",
            "  Downloading rustworkx-0.13.0-cp310-cp310-manylinux_2_17_x86_64.manylinux2014_x86_64.whl (1.9 MB)\n",
            "\u001b[2K     \u001b[90m━━━━━━━━━━━━━━━━━━━━━━━━━━━━━━━━━━━━━━━━\u001b[0m \u001b[32m1.9/1.9 MB\u001b[0m \u001b[31m50.3 MB/s\u001b[0m eta \u001b[36m0:00:00\u001b[0m\n",
            "\u001b[?25hCollecting ply>=3.10 (from qiskit-terra==0.24.1->qiskit)\n",
            "  Downloading ply-3.11-py2.py3-none-any.whl (49 kB)\n",
            "\u001b[2K     \u001b[90m━━━━━━━━━━━━━━━━━━━━━━━━━━━━━━━━━━━━━━━━\u001b[0m \u001b[32m49.6/49.6 kB\u001b[0m \u001b[31m4.2 MB/s\u001b[0m eta \u001b[36m0:00:00\u001b[0m\n",
            "\u001b[?25hRequirement already satisfied: psutil>=5 in /usr/local/lib/python3.10/dist-packages (from qiskit-terra==0.24.1->qiskit) (5.9.5)\n",
            "Requirement already satisfied: sympy>=1.3 in /usr/local/lib/python3.10/dist-packages (from qiskit-terra==0.24.1->qiskit) (1.11.1)\n",
            "Collecting dill>=0.3 (from qiskit-terra==0.24.1->qiskit)\n",
            "  Downloading dill-0.3.6-py3-none-any.whl (110 kB)\n",
            "\u001b[2K     \u001b[90m━━━━━━━━━━━━━━━━━━━━━━━━━━━━━━━━━━━━━━\u001b[0m \u001b[32m110.5/110.5 kB\u001b[0m \u001b[31m10.4 MB/s\u001b[0m eta \u001b[36m0:00:00\u001b[0m\n",
            "\u001b[?25hCollecting stevedore>=3.0.0 (from qiskit-terra==0.24.1->qiskit)\n",
            "  Downloading stevedore-5.1.0-py3-none-any.whl (49 kB)\n",
            "\u001b[2K     \u001b[90m━━━━━━━━━━━━━━━━━━━━━━━━━━━━━━━━━━━━━━━━\u001b[0m \u001b[32m49.6/49.6 kB\u001b[0m \u001b[31m4.6 MB/s\u001b[0m eta \u001b[36m0:00:00\u001b[0m\n",
            "\u001b[?25hCollecting symengine<0.10,>=0.9 (from qiskit-terra==0.24.1->qiskit)\n",
            "  Downloading symengine-0.9.2-cp310-cp310-manylinux2010_x86_64.whl (37.5 MB)\n",
            "\u001b[2K     \u001b[90m━━━━━━━━━━━━━━━━━━━━━━━━━━━━━━━━━━━━━━━━\u001b[0m \u001b[32m37.5/37.5 MB\u001b[0m \u001b[31m18.4 MB/s\u001b[0m eta \u001b[36m0:00:00\u001b[0m\n",
            "\u001b[?25hRequirement already satisfied: six>=1.5 in /usr/local/lib/python3.10/dist-packages (from python-dateutil>=2.8.0->qiskit-ibmq-provider==0.20.2->qiskit) (1.16.0)\n",
            "Requirement already satisfied: certifi>=2017.4.17 in /usr/local/lib/python3.10/dist-packages (from requests>=2.19->qiskit-ibmq-provider==0.20.2->qiskit) (2022.12.7)\n",
            "Requirement already satisfied: charset-normalizer~=2.0.0 in /usr/local/lib/python3.10/dist-packages (from requests>=2.19->qiskit-ibmq-provider==0.20.2->qiskit) (2.0.12)\n",
            "Requirement already satisfied: idna<4,>=2.5 in /usr/local/lib/python3.10/dist-packages (from requests>=2.19->qiskit-ibmq-provider==0.20.2->qiskit) (3.4)\n",
            "Collecting ntlm-auth>=1.0.2 (from requests-ntlm<=1.1.0->qiskit-ibmq-provider==0.20.2->qiskit)\n",
            "  Downloading ntlm_auth-1.5.0-py2.py3-none-any.whl (29 kB)\n",
            "Requirement already satisfied: cryptography>=1.3 in /usr/local/lib/python3.10/dist-packages (from requests-ntlm<=1.1.0->qiskit-ibmq-provider==0.20.2->qiskit) (40.0.2)\n",
            "Collecting pbr!=2.1.0,>=2.0.0 (from stevedore>=3.0.0->qiskit-terra==0.24.1->qiskit)\n",
            "  Downloading pbr-5.11.1-py2.py3-none-any.whl (112 kB)\n",
            "\u001b[2K     \u001b[90m━━━━━━━━━━━━━━━━━━━━━━━━━━━━━━━━━━━━━━━\u001b[0m \u001b[32m112.7/112.7 kB\u001b[0m \u001b[31m9.7 MB/s\u001b[0m eta \u001b[36m0:00:00\u001b[0m\n",
            "\u001b[?25hRequirement already satisfied: mpmath>=0.19 in /usr/local/lib/python3.10/dist-packages (from sympy>=1.3->qiskit-terra==0.24.1->qiskit) (1.3.0)\n",
            "Requirement already satisfied: cffi>=1.12 in /usr/local/lib/python3.10/dist-packages (from cryptography>=1.3->requests-ntlm<=1.1.0->qiskit-ibmq-provider==0.20.2->qiskit) (1.15.1)\n",
            "Requirement already satisfied: pycparser in /usr/local/lib/python3.10/dist-packages (from cffi>=1.12->cryptography>=1.3->requests-ntlm<=1.1.0->qiskit-ibmq-provider==0.20.2->qiskit) (2.21)\n",
            "Building wheels for collected packages: qiskit\n",
            "  Building wheel for qiskit (pyproject.toml) ... \u001b[?25l\u001b[?25hdone\n",
            "  Created wheel for qiskit: filename=qiskit-0.43.1-py3-none-any.whl size=8029 sha256=66a5fdd3fd512ab64f40f38aba42da3848b9555fc55e3f0f3e19c5ab3bb1b72f\n",
            "  Stored in directory: /root/.cache/pip/wheels/f1/f6/ad/0f2527d2cc0028cd682619f1b50a24476fd3592e0c63f87282\n",
            "Successfully built qiskit\n",
            "Installing collected packages: ply, websockets, symengine, rustworkx, pbr, ntlm-auth, dill, stevedore, requests-ntlm, qiskit-terra, qiskit-ibmq-provider, qiskit-aer, qiskit\n",
            "Successfully installed dill-0.3.6 ntlm-auth-1.5.0 pbr-5.11.1 ply-3.11 qiskit-0.43.1 qiskit-aer-0.12.0 qiskit-ibmq-provider-0.20.2 qiskit-terra-0.24.1 requests-ntlm-1.1.0 rustworkx-0.13.0 stevedore-5.1.0 symengine-0.9.2 websockets-11.0.3\n",
            "Looking in indexes: https://pypi.org/simple, https://us-python.pkg.dev/colab-wheels/public/simple/\n",
            "Requirement already satisfied: qiskit[visualization] in /usr/local/lib/python3.10/dist-packages (0.43.1)\n",
            "Requirement already satisfied: qiskit-terra==0.24.1 in /usr/local/lib/python3.10/dist-packages (from qiskit[visualization]) (0.24.1)\n",
            "Requirement already satisfied: qiskit-aer==0.12.0 in /usr/local/lib/python3.10/dist-packages (from qiskit[visualization]) (0.12.0)\n",
            "Requirement already satisfied: qiskit-ibmq-provider==0.20.2 in /usr/local/lib/python3.10/dist-packages (from qiskit[visualization]) (0.20.2)\n",
            "Requirement already satisfied: matplotlib>=2.1 in /usr/local/lib/python3.10/dist-packages (from qiskit[visualization]) (3.7.1)\n",
            "Requirement already satisfied: ipywidgets>=7.3.0 in /usr/local/lib/python3.10/dist-packages (from qiskit[visualization]) (7.7.1)\n",
            "Requirement already satisfied: pydot in /usr/local/lib/python3.10/dist-packages (from qiskit[visualization]) (1.4.2)\n",
            "Requirement already satisfied: pillow>=4.2.1 in /usr/local/lib/python3.10/dist-packages (from qiskit[visualization]) (8.4.0)\n",
            "Collecting pylatexenc>=1.4 (from qiskit[visualization])\n",
            "  Downloading pylatexenc-2.10.tar.gz (162 kB)\n",
            "\u001b[2K     \u001b[90m━━━━━━━━━━━━━━━━━━━━━━━━━━━━━━━━━━━━━━━\u001b[0m \u001b[32m162.6/162.6 kB\u001b[0m \u001b[31m2.3 MB/s\u001b[0m eta \u001b[36m0:00:00\u001b[0m\n",
            "\u001b[?25h  Preparing metadata (setup.py) ... \u001b[?25l\u001b[?25hdone\n",
            "Requirement already satisfied: seaborn>=0.9.0 in /usr/local/lib/python3.10/dist-packages (from qiskit[visualization]) (0.12.2)\n",
            "Requirement already satisfied: pygments>=2.4 in /usr/local/lib/python3.10/dist-packages (from qiskit[visualization]) (2.14.0)\n",
            "Requirement already satisfied: numpy>=1.16.3 in /usr/local/lib/python3.10/dist-packages (from qiskit-aer==0.12.0->qiskit[visualization]) (1.22.4)\n",
            "Requirement already satisfied: scipy>=1.0 in /usr/local/lib/python3.10/dist-packages (from qiskit-aer==0.12.0->qiskit[visualization]) (1.10.1)\n",
            "Requirement already satisfied: requests>=2.19 in /usr/local/lib/python3.10/dist-packages (from qiskit-ibmq-provider==0.20.2->qiskit[visualization]) (2.27.1)\n",
            "Requirement already satisfied: requests-ntlm<=1.1.0 in /usr/local/lib/python3.10/dist-packages (from qiskit-ibmq-provider==0.20.2->qiskit[visualization]) (1.1.0)\n",
            "Requirement already satisfied: urllib3>=1.21.1 in /usr/local/lib/python3.10/dist-packages (from qiskit-ibmq-provider==0.20.2->qiskit[visualization]) (1.26.15)\n",
            "Requirement already satisfied: python-dateutil>=2.8.0 in /usr/local/lib/python3.10/dist-packages (from qiskit-ibmq-provider==0.20.2->qiskit[visualization]) (2.8.2)\n",
            "Requirement already satisfied: websocket-client>=1.5.1 in /usr/local/lib/python3.10/dist-packages (from qiskit-ibmq-provider==0.20.2->qiskit[visualization]) (1.5.1)\n",
            "Requirement already satisfied: websockets>=10.0 in /usr/local/lib/python3.10/dist-packages (from qiskit-ibmq-provider==0.20.2->qiskit[visualization]) (11.0.3)\n",
            "Requirement already satisfied: rustworkx>=0.12.0 in /usr/local/lib/python3.10/dist-packages (from qiskit-terra==0.24.1->qiskit[visualization]) (0.13.0)\n",
            "Requirement already satisfied: ply>=3.10 in /usr/local/lib/python3.10/dist-packages (from qiskit-terra==0.24.1->qiskit[visualization]) (3.11)\n",
            "Requirement already satisfied: psutil>=5 in /usr/local/lib/python3.10/dist-packages (from qiskit-terra==0.24.1->qiskit[visualization]) (5.9.5)\n",
            "Requirement already satisfied: sympy>=1.3 in /usr/local/lib/python3.10/dist-packages (from qiskit-terra==0.24.1->qiskit[visualization]) (1.11.1)\n",
            "Requirement already satisfied: dill>=0.3 in /usr/local/lib/python3.10/dist-packages (from qiskit-terra==0.24.1->qiskit[visualization]) (0.3.6)\n",
            "Requirement already satisfied: stevedore>=3.0.0 in /usr/local/lib/python3.10/dist-packages (from qiskit-terra==0.24.1->qiskit[visualization]) (5.1.0)\n",
            "Requirement already satisfied: symengine<0.10,>=0.9 in /usr/local/lib/python3.10/dist-packages (from qiskit-terra==0.24.1->qiskit[visualization]) (0.9.2)\n",
            "Requirement already satisfied: ipykernel>=4.5.1 in /usr/local/lib/python3.10/dist-packages (from ipywidgets>=7.3.0->qiskit[visualization]) (5.5.6)\n",
            "Requirement already satisfied: ipython-genutils~=0.2.0 in /usr/local/lib/python3.10/dist-packages (from ipywidgets>=7.3.0->qiskit[visualization]) (0.2.0)\n",
            "Requirement already satisfied: traitlets>=4.3.1 in /usr/local/lib/python3.10/dist-packages (from ipywidgets>=7.3.0->qiskit[visualization]) (5.7.1)\n",
            "Requirement already satisfied: widgetsnbextension~=3.6.0 in /usr/local/lib/python3.10/dist-packages (from ipywidgets>=7.3.0->qiskit[visualization]) (3.6.4)\n",
            "Requirement already satisfied: ipython>=4.0.0 in /usr/local/lib/python3.10/dist-packages (from ipywidgets>=7.3.0->qiskit[visualization]) (7.34.0)\n",
            "Requirement already satisfied: jupyterlab-widgets>=1.0.0 in /usr/local/lib/python3.10/dist-packages (from ipywidgets>=7.3.0->qiskit[visualization]) (3.0.7)\n",
            "Requirement already satisfied: contourpy>=1.0.1 in /usr/local/lib/python3.10/dist-packages (from matplotlib>=2.1->qiskit[visualization]) (1.0.7)\n",
            "Requirement already satisfied: cycler>=0.10 in /usr/local/lib/python3.10/dist-packages (from matplotlib>=2.1->qiskit[visualization]) (0.11.0)\n",
            "Requirement already satisfied: fonttools>=4.22.0 in /usr/local/lib/python3.10/dist-packages (from matplotlib>=2.1->qiskit[visualization]) (4.39.3)\n",
            "Requirement already satisfied: kiwisolver>=1.0.1 in /usr/local/lib/python3.10/dist-packages (from matplotlib>=2.1->qiskit[visualization]) (1.4.4)\n",
            "Requirement already satisfied: packaging>=20.0 in /usr/local/lib/python3.10/dist-packages (from matplotlib>=2.1->qiskit[visualization]) (23.1)\n",
            "Requirement already satisfied: pyparsing>=2.3.1 in /usr/local/lib/python3.10/dist-packages (from matplotlib>=2.1->qiskit[visualization]) (3.0.9)\n",
            "Requirement already satisfied: pandas>=0.25 in /usr/local/lib/python3.10/dist-packages (from seaborn>=0.9.0->qiskit[visualization]) (1.5.3)\n",
            "Requirement already satisfied: jupyter-client in /usr/local/lib/python3.10/dist-packages (from ipykernel>=4.5.1->ipywidgets>=7.3.0->qiskit[visualization]) (6.1.12)\n",
            "Requirement already satisfied: tornado>=4.2 in /usr/local/lib/python3.10/dist-packages (from ipykernel>=4.5.1->ipywidgets>=7.3.0->qiskit[visualization]) (6.3.1)\n",
            "Requirement already satisfied: setuptools>=18.5 in /usr/local/lib/python3.10/dist-packages (from ipython>=4.0.0->ipywidgets>=7.3.0->qiskit[visualization]) (67.7.2)\n",
            "Collecting jedi>=0.16 (from ipython>=4.0.0->ipywidgets>=7.3.0->qiskit[visualization])\n",
            "  Downloading jedi-0.18.2-py2.py3-none-any.whl (1.6 MB)\n",
            "\u001b[2K     \u001b[90m━━━━━━━━━━━━━━━━━━━━━━━━━━━━━━━━━━━━━━━━\u001b[0m \u001b[32m1.6/1.6 MB\u001b[0m \u001b[31m27.4 MB/s\u001b[0m eta \u001b[36m0:00:00\u001b[0m\n",
            "\u001b[?25hRequirement already satisfied: decorator in /usr/local/lib/python3.10/dist-packages (from ipython>=4.0.0->ipywidgets>=7.3.0->qiskit[visualization]) (4.4.2)\n",
            "Requirement already satisfied: pickleshare in /usr/local/lib/python3.10/dist-packages (from ipython>=4.0.0->ipywidgets>=7.3.0->qiskit[visualization]) (0.7.5)\n",
            "Requirement already satisfied: prompt-toolkit!=3.0.0,!=3.0.1,<3.1.0,>=2.0.0 in /usr/local/lib/python3.10/dist-packages (from ipython>=4.0.0->ipywidgets>=7.3.0->qiskit[visualization]) (3.0.38)\n",
            "Requirement already satisfied: backcall in /usr/local/lib/python3.10/dist-packages (from ipython>=4.0.0->ipywidgets>=7.3.0->qiskit[visualization]) (0.2.0)\n",
            "Requirement already satisfied: matplotlib-inline in /usr/local/lib/python3.10/dist-packages (from ipython>=4.0.0->ipywidgets>=7.3.0->qiskit[visualization]) (0.1.6)\n",
            "Requirement already satisfied: pexpect>4.3 in /usr/local/lib/python3.10/dist-packages (from ipython>=4.0.0->ipywidgets>=7.3.0->qiskit[visualization]) (4.8.0)\n",
            "Requirement already satisfied: pytz>=2020.1 in /usr/local/lib/python3.10/dist-packages (from pandas>=0.25->seaborn>=0.9.0->qiskit[visualization]) (2022.7.1)\n",
            "Requirement already satisfied: six>=1.5 in /usr/local/lib/python3.10/dist-packages (from python-dateutil>=2.8.0->qiskit-ibmq-provider==0.20.2->qiskit[visualization]) (1.16.0)\n",
            "Requirement already satisfied: certifi>=2017.4.17 in /usr/local/lib/python3.10/dist-packages (from requests>=2.19->qiskit-ibmq-provider==0.20.2->qiskit[visualization]) (2022.12.7)\n",
            "Requirement already satisfied: charset-normalizer~=2.0.0 in /usr/local/lib/python3.10/dist-packages (from requests>=2.19->qiskit-ibmq-provider==0.20.2->qiskit[visualization]) (2.0.12)\n",
            "Requirement already satisfied: idna<4,>=2.5 in /usr/local/lib/python3.10/dist-packages (from requests>=2.19->qiskit-ibmq-provider==0.20.2->qiskit[visualization]) (3.4)\n",
            "Requirement already satisfied: ntlm-auth>=1.0.2 in /usr/local/lib/python3.10/dist-packages (from requests-ntlm<=1.1.0->qiskit-ibmq-provider==0.20.2->qiskit[visualization]) (1.5.0)\n",
            "Requirement already satisfied: cryptography>=1.3 in /usr/local/lib/python3.10/dist-packages (from requests-ntlm<=1.1.0->qiskit-ibmq-provider==0.20.2->qiskit[visualization]) (40.0.2)\n",
            "Requirement already satisfied: pbr!=2.1.0,>=2.0.0 in /usr/local/lib/python3.10/dist-packages (from stevedore>=3.0.0->qiskit-terra==0.24.1->qiskit[visualization]) (5.11.1)\n",
            "Requirement already satisfied: mpmath>=0.19 in /usr/local/lib/python3.10/dist-packages (from sympy>=1.3->qiskit-terra==0.24.1->qiskit[visualization]) (1.3.0)\n",
            "Requirement already satisfied: notebook>=4.4.1 in /usr/local/lib/python3.10/dist-packages (from widgetsnbextension~=3.6.0->ipywidgets>=7.3.0->qiskit[visualization]) (6.4.8)\n",
            "Requirement already satisfied: cffi>=1.12 in /usr/local/lib/python3.10/dist-packages (from cryptography>=1.3->requests-ntlm<=1.1.0->qiskit-ibmq-provider==0.20.2->qiskit[visualization]) (1.15.1)\n",
            "Requirement already satisfied: parso<0.9.0,>=0.8.0 in /usr/local/lib/python3.10/dist-packages (from jedi>=0.16->ipython>=4.0.0->ipywidgets>=7.3.0->qiskit[visualization]) (0.8.3)\n",
            "Requirement already satisfied: jinja2 in /usr/local/lib/python3.10/dist-packages (from notebook>=4.4.1->widgetsnbextension~=3.6.0->ipywidgets>=7.3.0->qiskit[visualization]) (3.1.2)\n",
            "Requirement already satisfied: pyzmq>=17 in /usr/local/lib/python3.10/dist-packages (from notebook>=4.4.1->widgetsnbextension~=3.6.0->ipywidgets>=7.3.0->qiskit[visualization]) (23.2.1)\n",
            "Requirement already satisfied: argon2-cffi in /usr/local/lib/python3.10/dist-packages (from notebook>=4.4.1->widgetsnbextension~=3.6.0->ipywidgets>=7.3.0->qiskit[visualization]) (21.3.0)\n",
            "Requirement already satisfied: jupyter-core>=4.6.1 in /usr/local/lib/python3.10/dist-packages (from notebook>=4.4.1->widgetsnbextension~=3.6.0->ipywidgets>=7.3.0->qiskit[visualization]) (5.3.0)\n",
            "Requirement already satisfied: nbformat in /usr/local/lib/python3.10/dist-packages (from notebook>=4.4.1->widgetsnbextension~=3.6.0->ipywidgets>=7.3.0->qiskit[visualization]) (5.8.0)\n",
            "Requirement already satisfied: nbconvert in /usr/local/lib/python3.10/dist-packages (from notebook>=4.4.1->widgetsnbextension~=3.6.0->ipywidgets>=7.3.0->qiskit[visualization]) (6.5.4)\n",
            "Requirement already satisfied: nest-asyncio>=1.5 in /usr/local/lib/python3.10/dist-packages (from notebook>=4.4.1->widgetsnbextension~=3.6.0->ipywidgets>=7.3.0->qiskit[visualization]) (1.5.6)\n",
            "Requirement already satisfied: Send2Trash>=1.8.0 in /usr/local/lib/python3.10/dist-packages (from notebook>=4.4.1->widgetsnbextension~=3.6.0->ipywidgets>=7.3.0->qiskit[visualization]) (1.8.0)\n",
            "Requirement already satisfied: terminado>=0.8.3 in /usr/local/lib/python3.10/dist-packages (from notebook>=4.4.1->widgetsnbextension~=3.6.0->ipywidgets>=7.3.0->qiskit[visualization]) (0.17.1)\n",
            "Requirement already satisfied: prometheus-client in /usr/local/lib/python3.10/dist-packages (from notebook>=4.4.1->widgetsnbextension~=3.6.0->ipywidgets>=7.3.0->qiskit[visualization]) (0.16.0)\n",
            "Requirement already satisfied: ptyprocess>=0.5 in /usr/local/lib/python3.10/dist-packages (from pexpect>4.3->ipython>=4.0.0->ipywidgets>=7.3.0->qiskit[visualization]) (0.7.0)\n",
            "Requirement already satisfied: wcwidth in /usr/local/lib/python3.10/dist-packages (from prompt-toolkit!=3.0.0,!=3.0.1,<3.1.0,>=2.0.0->ipython>=4.0.0->ipywidgets>=7.3.0->qiskit[visualization]) (0.2.6)\n",
            "Requirement already satisfied: pycparser in /usr/local/lib/python3.10/dist-packages (from cffi>=1.12->cryptography>=1.3->requests-ntlm<=1.1.0->qiskit-ibmq-provider==0.20.2->qiskit[visualization]) (2.21)\n",
            "Requirement already satisfied: platformdirs>=2.5 in /usr/local/lib/python3.10/dist-packages (from jupyter-core>=4.6.1->notebook>=4.4.1->widgetsnbextension~=3.6.0->ipywidgets>=7.3.0->qiskit[visualization]) (3.3.0)\n",
            "Requirement already satisfied: argon2-cffi-bindings in /usr/local/lib/python3.10/dist-packages (from argon2-cffi->notebook>=4.4.1->widgetsnbextension~=3.6.0->ipywidgets>=7.3.0->qiskit[visualization]) (21.2.0)\n",
            "Requirement already satisfied: MarkupSafe>=2.0 in /usr/local/lib/python3.10/dist-packages (from jinja2->notebook>=4.4.1->widgetsnbextension~=3.6.0->ipywidgets>=7.3.0->qiskit[visualization]) (2.1.2)\n",
            "Requirement already satisfied: lxml in /usr/local/lib/python3.10/dist-packages (from nbconvert->notebook>=4.4.1->widgetsnbextension~=3.6.0->ipywidgets>=7.3.0->qiskit[visualization]) (4.9.2)\n",
            "Requirement already satisfied: beautifulsoup4 in /usr/local/lib/python3.10/dist-packages (from nbconvert->notebook>=4.4.1->widgetsnbextension~=3.6.0->ipywidgets>=7.3.0->qiskit[visualization]) (4.11.2)\n",
            "Requirement already satisfied: bleach in /usr/local/lib/python3.10/dist-packages (from nbconvert->notebook>=4.4.1->widgetsnbextension~=3.6.0->ipywidgets>=7.3.0->qiskit[visualization]) (6.0.0)\n",
            "Requirement already satisfied: defusedxml in /usr/local/lib/python3.10/dist-packages (from nbconvert->notebook>=4.4.1->widgetsnbextension~=3.6.0->ipywidgets>=7.3.0->qiskit[visualization]) (0.7.1)\n",
            "Requirement already satisfied: entrypoints>=0.2.2 in /usr/local/lib/python3.10/dist-packages (from nbconvert->notebook>=4.4.1->widgetsnbextension~=3.6.0->ipywidgets>=7.3.0->qiskit[visualization]) (0.4)\n",
            "Requirement already satisfied: jupyterlab-pygments in /usr/local/lib/python3.10/dist-packages (from nbconvert->notebook>=4.4.1->widgetsnbextension~=3.6.0->ipywidgets>=7.3.0->qiskit[visualization]) (0.2.2)\n",
            "Requirement already satisfied: mistune<2,>=0.8.1 in /usr/local/lib/python3.10/dist-packages (from nbconvert->notebook>=4.4.1->widgetsnbextension~=3.6.0->ipywidgets>=7.3.0->qiskit[visualization]) (0.8.4)\n",
            "Requirement already satisfied: nbclient>=0.5.0 in /usr/local/lib/python3.10/dist-packages (from nbconvert->notebook>=4.4.1->widgetsnbextension~=3.6.0->ipywidgets>=7.3.0->qiskit[visualization]) (0.7.4)\n",
            "Requirement already satisfied: pandocfilters>=1.4.1 in /usr/local/lib/python3.10/dist-packages (from nbconvert->notebook>=4.4.1->widgetsnbextension~=3.6.0->ipywidgets>=7.3.0->qiskit[visualization]) (1.5.0)\n",
            "Requirement already satisfied: tinycss2 in /usr/local/lib/python3.10/dist-packages (from nbconvert->notebook>=4.4.1->widgetsnbextension~=3.6.0->ipywidgets>=7.3.0->qiskit[visualization]) (1.2.1)\n",
            "Requirement already satisfied: fastjsonschema in /usr/local/lib/python3.10/dist-packages (from nbformat->notebook>=4.4.1->widgetsnbextension~=3.6.0->ipywidgets>=7.3.0->qiskit[visualization]) (2.16.3)\n",
            "Requirement already satisfied: jsonschema>=2.6 in /usr/local/lib/python3.10/dist-packages (from nbformat->notebook>=4.4.1->widgetsnbextension~=3.6.0->ipywidgets>=7.3.0->qiskit[visualization]) (4.3.3)\n",
            "Requirement already satisfied: attrs>=17.4.0 in /usr/local/lib/python3.10/dist-packages (from jsonschema>=2.6->nbformat->notebook>=4.4.1->widgetsnbextension~=3.6.0->ipywidgets>=7.3.0->qiskit[visualization]) (23.1.0)\n",
            "Requirement already satisfied: pyrsistent!=0.17.0,!=0.17.1,!=0.17.2,>=0.14.0 in /usr/local/lib/python3.10/dist-packages (from jsonschema>=2.6->nbformat->notebook>=4.4.1->widgetsnbextension~=3.6.0->ipywidgets>=7.3.0->qiskit[visualization]) (0.19.3)\n",
            "Requirement already satisfied: soupsieve>1.2 in /usr/local/lib/python3.10/dist-packages (from beautifulsoup4->nbconvert->notebook>=4.4.1->widgetsnbextension~=3.6.0->ipywidgets>=7.3.0->qiskit[visualization]) (2.4.1)\n",
            "Requirement already satisfied: webencodings in /usr/local/lib/python3.10/dist-packages (from bleach->nbconvert->notebook>=4.4.1->widgetsnbextension~=3.6.0->ipywidgets>=7.3.0->qiskit[visualization]) (0.5.1)\n",
            "Building wheels for collected packages: pylatexenc\n",
            "  Building wheel for pylatexenc (setup.py) ... \u001b[?25l\u001b[?25hdone\n",
            "  Created wheel for pylatexenc: filename=pylatexenc-2.10-py3-none-any.whl size=136820 sha256=028c6d96a9d104da1478adf97ee94ac7d79e559dd631aa2fd065ff64bb3d3513\n",
            "  Stored in directory: /root/.cache/pip/wheels/d3/31/8b/e09b0386afd80cfc556c00408c9aeea5c35c4d484a9c762fd5\n",
            "Successfully built pylatexenc\n",
            "Installing collected packages: pylatexenc, jedi\n",
            "Successfully installed jedi-0.18.2 pylatexenc-2.10\n",
            "Looking in indexes: https://pypi.org/simple, https://us-python.pkg.dev/colab-wheels/public/simple/\n",
            "Requirement already satisfied: qiskit[visualization] in /usr/local/lib/python3.10/dist-packages (0.43.1)\n",
            "Requirement already satisfied: qiskit-terra==0.24.1 in /usr/local/lib/python3.10/dist-packages (from qiskit[visualization]) (0.24.1)\n",
            "Requirement already satisfied: qiskit-aer==0.12.0 in /usr/local/lib/python3.10/dist-packages (from qiskit[visualization]) (0.12.0)\n",
            "Requirement already satisfied: qiskit-ibmq-provider==0.20.2 in /usr/local/lib/python3.10/dist-packages (from qiskit[visualization]) (0.20.2)\n",
            "Requirement already satisfied: matplotlib>=2.1 in /usr/local/lib/python3.10/dist-packages (from qiskit[visualization]) (3.7.1)\n",
            "Requirement already satisfied: ipywidgets>=7.3.0 in /usr/local/lib/python3.10/dist-packages (from qiskit[visualization]) (7.7.1)\n",
            "Requirement already satisfied: pydot in /usr/local/lib/python3.10/dist-packages (from qiskit[visualization]) (1.4.2)\n",
            "Requirement already satisfied: pillow>=4.2.1 in /usr/local/lib/python3.10/dist-packages (from qiskit[visualization]) (8.4.0)\n",
            "Requirement already satisfied: pylatexenc>=1.4 in /usr/local/lib/python3.10/dist-packages (from qiskit[visualization]) (2.10)\n",
            "Requirement already satisfied: seaborn>=0.9.0 in /usr/local/lib/python3.10/dist-packages (from qiskit[visualization]) (0.12.2)\n",
            "Requirement already satisfied: pygments>=2.4 in /usr/local/lib/python3.10/dist-packages (from qiskit[visualization]) (2.14.0)\n",
            "Requirement already satisfied: numpy>=1.16.3 in /usr/local/lib/python3.10/dist-packages (from qiskit-aer==0.12.0->qiskit[visualization]) (1.22.4)\n",
            "Requirement already satisfied: scipy>=1.0 in /usr/local/lib/python3.10/dist-packages (from qiskit-aer==0.12.0->qiskit[visualization]) (1.10.1)\n",
            "Requirement already satisfied: requests>=2.19 in /usr/local/lib/python3.10/dist-packages (from qiskit-ibmq-provider==0.20.2->qiskit[visualization]) (2.27.1)\n",
            "Requirement already satisfied: requests-ntlm<=1.1.0 in /usr/local/lib/python3.10/dist-packages (from qiskit-ibmq-provider==0.20.2->qiskit[visualization]) (1.1.0)\n",
            "Requirement already satisfied: urllib3>=1.21.1 in /usr/local/lib/python3.10/dist-packages (from qiskit-ibmq-provider==0.20.2->qiskit[visualization]) (1.26.15)\n",
            "Requirement already satisfied: python-dateutil>=2.8.0 in /usr/local/lib/python3.10/dist-packages (from qiskit-ibmq-provider==0.20.2->qiskit[visualization]) (2.8.2)\n",
            "Requirement already satisfied: websocket-client>=1.5.1 in /usr/local/lib/python3.10/dist-packages (from qiskit-ibmq-provider==0.20.2->qiskit[visualization]) (1.5.1)\n",
            "Requirement already satisfied: websockets>=10.0 in /usr/local/lib/python3.10/dist-packages (from qiskit-ibmq-provider==0.20.2->qiskit[visualization]) (11.0.3)\n",
            "Requirement already satisfied: rustworkx>=0.12.0 in /usr/local/lib/python3.10/dist-packages (from qiskit-terra==0.24.1->qiskit[visualization]) (0.13.0)\n",
            "Requirement already satisfied: ply>=3.10 in /usr/local/lib/python3.10/dist-packages (from qiskit-terra==0.24.1->qiskit[visualization]) (3.11)\n",
            "Requirement already satisfied: psutil>=5 in /usr/local/lib/python3.10/dist-packages (from qiskit-terra==0.24.1->qiskit[visualization]) (5.9.5)\n",
            "Requirement already satisfied: sympy>=1.3 in /usr/local/lib/python3.10/dist-packages (from qiskit-terra==0.24.1->qiskit[visualization]) (1.11.1)\n",
            "Requirement already satisfied: dill>=0.3 in /usr/local/lib/python3.10/dist-packages (from qiskit-terra==0.24.1->qiskit[visualization]) (0.3.6)\n",
            "Requirement already satisfied: stevedore>=3.0.0 in /usr/local/lib/python3.10/dist-packages (from qiskit-terra==0.24.1->qiskit[visualization]) (5.1.0)\n",
            "Requirement already satisfied: symengine<0.10,>=0.9 in /usr/local/lib/python3.10/dist-packages (from qiskit-terra==0.24.1->qiskit[visualization]) (0.9.2)\n",
            "Requirement already satisfied: ipykernel>=4.5.1 in /usr/local/lib/python3.10/dist-packages (from ipywidgets>=7.3.0->qiskit[visualization]) (5.5.6)\n",
            "Requirement already satisfied: ipython-genutils~=0.2.0 in /usr/local/lib/python3.10/dist-packages (from ipywidgets>=7.3.0->qiskit[visualization]) (0.2.0)\n",
            "Requirement already satisfied: traitlets>=4.3.1 in /usr/local/lib/python3.10/dist-packages (from ipywidgets>=7.3.0->qiskit[visualization]) (5.7.1)\n",
            "Requirement already satisfied: widgetsnbextension~=3.6.0 in /usr/local/lib/python3.10/dist-packages (from ipywidgets>=7.3.0->qiskit[visualization]) (3.6.4)\n",
            "Requirement already satisfied: ipython>=4.0.0 in /usr/local/lib/python3.10/dist-packages (from ipywidgets>=7.3.0->qiskit[visualization]) (7.34.0)\n",
            "Requirement already satisfied: jupyterlab-widgets>=1.0.0 in /usr/local/lib/python3.10/dist-packages (from ipywidgets>=7.3.0->qiskit[visualization]) (3.0.7)\n",
            "Requirement already satisfied: contourpy>=1.0.1 in /usr/local/lib/python3.10/dist-packages (from matplotlib>=2.1->qiskit[visualization]) (1.0.7)\n",
            "Requirement already satisfied: cycler>=0.10 in /usr/local/lib/python3.10/dist-packages (from matplotlib>=2.1->qiskit[visualization]) (0.11.0)\n",
            "Requirement already satisfied: fonttools>=4.22.0 in /usr/local/lib/python3.10/dist-packages (from matplotlib>=2.1->qiskit[visualization]) (4.39.3)\n",
            "Requirement already satisfied: kiwisolver>=1.0.1 in /usr/local/lib/python3.10/dist-packages (from matplotlib>=2.1->qiskit[visualization]) (1.4.4)\n",
            "Requirement already satisfied: packaging>=20.0 in /usr/local/lib/python3.10/dist-packages (from matplotlib>=2.1->qiskit[visualization]) (23.1)\n",
            "Requirement already satisfied: pyparsing>=2.3.1 in /usr/local/lib/python3.10/dist-packages (from matplotlib>=2.1->qiskit[visualization]) (3.0.9)\n",
            "Requirement already satisfied: pandas>=0.25 in /usr/local/lib/python3.10/dist-packages (from seaborn>=0.9.0->qiskit[visualization]) (1.5.3)\n",
            "Requirement already satisfied: jupyter-client in /usr/local/lib/python3.10/dist-packages (from ipykernel>=4.5.1->ipywidgets>=7.3.0->qiskit[visualization]) (6.1.12)\n",
            "Requirement already satisfied: tornado>=4.2 in /usr/local/lib/python3.10/dist-packages (from ipykernel>=4.5.1->ipywidgets>=7.3.0->qiskit[visualization]) (6.3.1)\n",
            "Requirement already satisfied: setuptools>=18.5 in /usr/local/lib/python3.10/dist-packages (from ipython>=4.0.0->ipywidgets>=7.3.0->qiskit[visualization]) (67.7.2)\n",
            "Requirement already satisfied: jedi>=0.16 in /usr/local/lib/python3.10/dist-packages (from ipython>=4.0.0->ipywidgets>=7.3.0->qiskit[visualization]) (0.18.2)\n",
            "Requirement already satisfied: decorator in /usr/local/lib/python3.10/dist-packages (from ipython>=4.0.0->ipywidgets>=7.3.0->qiskit[visualization]) (4.4.2)\n",
            "Requirement already satisfied: pickleshare in /usr/local/lib/python3.10/dist-packages (from ipython>=4.0.0->ipywidgets>=7.3.0->qiskit[visualization]) (0.7.5)\n",
            "Requirement already satisfied: prompt-toolkit!=3.0.0,!=3.0.1,<3.1.0,>=2.0.0 in /usr/local/lib/python3.10/dist-packages (from ipython>=4.0.0->ipywidgets>=7.3.0->qiskit[visualization]) (3.0.38)\n",
            "Requirement already satisfied: backcall in /usr/local/lib/python3.10/dist-packages (from ipython>=4.0.0->ipywidgets>=7.3.0->qiskit[visualization]) (0.2.0)\n",
            "Requirement already satisfied: matplotlib-inline in /usr/local/lib/python3.10/dist-packages (from ipython>=4.0.0->ipywidgets>=7.3.0->qiskit[visualization]) (0.1.6)\n",
            "Requirement already satisfied: pexpect>4.3 in /usr/local/lib/python3.10/dist-packages (from ipython>=4.0.0->ipywidgets>=7.3.0->qiskit[visualization]) (4.8.0)\n",
            "Requirement already satisfied: pytz>=2020.1 in /usr/local/lib/python3.10/dist-packages (from pandas>=0.25->seaborn>=0.9.0->qiskit[visualization]) (2022.7.1)\n",
            "Requirement already satisfied: six>=1.5 in /usr/local/lib/python3.10/dist-packages (from python-dateutil>=2.8.0->qiskit-ibmq-provider==0.20.2->qiskit[visualization]) (1.16.0)\n",
            "Requirement already satisfied: certifi>=2017.4.17 in /usr/local/lib/python3.10/dist-packages (from requests>=2.19->qiskit-ibmq-provider==0.20.2->qiskit[visualization]) (2022.12.7)\n",
            "Requirement already satisfied: charset-normalizer~=2.0.0 in /usr/local/lib/python3.10/dist-packages (from requests>=2.19->qiskit-ibmq-provider==0.20.2->qiskit[visualization]) (2.0.12)\n",
            "Requirement already satisfied: idna<4,>=2.5 in /usr/local/lib/python3.10/dist-packages (from requests>=2.19->qiskit-ibmq-provider==0.20.2->qiskit[visualization]) (3.4)\n",
            "Requirement already satisfied: ntlm-auth>=1.0.2 in /usr/local/lib/python3.10/dist-packages (from requests-ntlm<=1.1.0->qiskit-ibmq-provider==0.20.2->qiskit[visualization]) (1.5.0)\n",
            "Requirement already satisfied: cryptography>=1.3 in /usr/local/lib/python3.10/dist-packages (from requests-ntlm<=1.1.0->qiskit-ibmq-provider==0.20.2->qiskit[visualization]) (40.0.2)\n",
            "Requirement already satisfied: pbr!=2.1.0,>=2.0.0 in /usr/local/lib/python3.10/dist-packages (from stevedore>=3.0.0->qiskit-terra==0.24.1->qiskit[visualization]) (5.11.1)\n",
            "Requirement already satisfied: mpmath>=0.19 in /usr/local/lib/python3.10/dist-packages (from sympy>=1.3->qiskit-terra==0.24.1->qiskit[visualization]) (1.3.0)\n",
            "Requirement already satisfied: notebook>=4.4.1 in /usr/local/lib/python3.10/dist-packages (from widgetsnbextension~=3.6.0->ipywidgets>=7.3.0->qiskit[visualization]) (6.4.8)\n",
            "Requirement already satisfied: cffi>=1.12 in /usr/local/lib/python3.10/dist-packages (from cryptography>=1.3->requests-ntlm<=1.1.0->qiskit-ibmq-provider==0.20.2->qiskit[visualization]) (1.15.1)\n",
            "Requirement already satisfied: parso<0.9.0,>=0.8.0 in /usr/local/lib/python3.10/dist-packages (from jedi>=0.16->ipython>=4.0.0->ipywidgets>=7.3.0->qiskit[visualization]) (0.8.3)\n",
            "Requirement already satisfied: jinja2 in /usr/local/lib/python3.10/dist-packages (from notebook>=4.4.1->widgetsnbextension~=3.6.0->ipywidgets>=7.3.0->qiskit[visualization]) (3.1.2)\n",
            "Requirement already satisfied: pyzmq>=17 in /usr/local/lib/python3.10/dist-packages (from notebook>=4.4.1->widgetsnbextension~=3.6.0->ipywidgets>=7.3.0->qiskit[visualization]) (23.2.1)\n",
            "Requirement already satisfied: argon2-cffi in /usr/local/lib/python3.10/dist-packages (from notebook>=4.4.1->widgetsnbextension~=3.6.0->ipywidgets>=7.3.0->qiskit[visualization]) (21.3.0)\n",
            "Requirement already satisfied: jupyter-core>=4.6.1 in /usr/local/lib/python3.10/dist-packages (from notebook>=4.4.1->widgetsnbextension~=3.6.0->ipywidgets>=7.3.0->qiskit[visualization]) (5.3.0)\n",
            "Requirement already satisfied: nbformat in /usr/local/lib/python3.10/dist-packages (from notebook>=4.4.1->widgetsnbextension~=3.6.0->ipywidgets>=7.3.0->qiskit[visualization]) (5.8.0)\n",
            "Requirement already satisfied: nbconvert in /usr/local/lib/python3.10/dist-packages (from notebook>=4.4.1->widgetsnbextension~=3.6.0->ipywidgets>=7.3.0->qiskit[visualization]) (6.5.4)\n",
            "Requirement already satisfied: nest-asyncio>=1.5 in /usr/local/lib/python3.10/dist-packages (from notebook>=4.4.1->widgetsnbextension~=3.6.0->ipywidgets>=7.3.0->qiskit[visualization]) (1.5.6)\n",
            "Requirement already satisfied: Send2Trash>=1.8.0 in /usr/local/lib/python3.10/dist-packages (from notebook>=4.4.1->widgetsnbextension~=3.6.0->ipywidgets>=7.3.0->qiskit[visualization]) (1.8.0)\n",
            "Requirement already satisfied: terminado>=0.8.3 in /usr/local/lib/python3.10/dist-packages (from notebook>=4.4.1->widgetsnbextension~=3.6.0->ipywidgets>=7.3.0->qiskit[visualization]) (0.17.1)\n",
            "Requirement already satisfied: prometheus-client in /usr/local/lib/python3.10/dist-packages (from notebook>=4.4.1->widgetsnbextension~=3.6.0->ipywidgets>=7.3.0->qiskit[visualization]) (0.16.0)\n",
            "Requirement already satisfied: ptyprocess>=0.5 in /usr/local/lib/python3.10/dist-packages (from pexpect>4.3->ipython>=4.0.0->ipywidgets>=7.3.0->qiskit[visualization]) (0.7.0)\n",
            "Requirement already satisfied: wcwidth in /usr/local/lib/python3.10/dist-packages (from prompt-toolkit!=3.0.0,!=3.0.1,<3.1.0,>=2.0.0->ipython>=4.0.0->ipywidgets>=7.3.0->qiskit[visualization]) (0.2.6)\n",
            "Requirement already satisfied: pycparser in /usr/local/lib/python3.10/dist-packages (from cffi>=1.12->cryptography>=1.3->requests-ntlm<=1.1.0->qiskit-ibmq-provider==0.20.2->qiskit[visualization]) (2.21)\n",
            "Requirement already satisfied: platformdirs>=2.5 in /usr/local/lib/python3.10/dist-packages (from jupyter-core>=4.6.1->notebook>=4.4.1->widgetsnbextension~=3.6.0->ipywidgets>=7.3.0->qiskit[visualization]) (3.3.0)\n",
            "Requirement already satisfied: argon2-cffi-bindings in /usr/local/lib/python3.10/dist-packages (from argon2-cffi->notebook>=4.4.1->widgetsnbextension~=3.6.0->ipywidgets>=7.3.0->qiskit[visualization]) (21.2.0)\n",
            "Requirement already satisfied: MarkupSafe>=2.0 in /usr/local/lib/python3.10/dist-packages (from jinja2->notebook>=4.4.1->widgetsnbextension~=3.6.0->ipywidgets>=7.3.0->qiskit[visualization]) (2.1.2)\n",
            "Requirement already satisfied: lxml in /usr/local/lib/python3.10/dist-packages (from nbconvert->notebook>=4.4.1->widgetsnbextension~=3.6.0->ipywidgets>=7.3.0->qiskit[visualization]) (4.9.2)\n",
            "Requirement already satisfied: beautifulsoup4 in /usr/local/lib/python3.10/dist-packages (from nbconvert->notebook>=4.4.1->widgetsnbextension~=3.6.0->ipywidgets>=7.3.0->qiskit[visualization]) (4.11.2)\n",
            "Requirement already satisfied: bleach in /usr/local/lib/python3.10/dist-packages (from nbconvert->notebook>=4.4.1->widgetsnbextension~=3.6.0->ipywidgets>=7.3.0->qiskit[visualization]) (6.0.0)\n",
            "Requirement already satisfied: defusedxml in /usr/local/lib/python3.10/dist-packages (from nbconvert->notebook>=4.4.1->widgetsnbextension~=3.6.0->ipywidgets>=7.3.0->qiskit[visualization]) (0.7.1)\n",
            "Requirement already satisfied: entrypoints>=0.2.2 in /usr/local/lib/python3.10/dist-packages (from nbconvert->notebook>=4.4.1->widgetsnbextension~=3.6.0->ipywidgets>=7.3.0->qiskit[visualization]) (0.4)\n",
            "Requirement already satisfied: jupyterlab-pygments in /usr/local/lib/python3.10/dist-packages (from nbconvert->notebook>=4.4.1->widgetsnbextension~=3.6.0->ipywidgets>=7.3.0->qiskit[visualization]) (0.2.2)\n",
            "Requirement already satisfied: mistune<2,>=0.8.1 in /usr/local/lib/python3.10/dist-packages (from nbconvert->notebook>=4.4.1->widgetsnbextension~=3.6.0->ipywidgets>=7.3.0->qiskit[visualization]) (0.8.4)\n",
            "Requirement already satisfied: nbclient>=0.5.0 in /usr/local/lib/python3.10/dist-packages (from nbconvert->notebook>=4.4.1->widgetsnbextension~=3.6.0->ipywidgets>=7.3.0->qiskit[visualization]) (0.7.4)\n",
            "Requirement already satisfied: pandocfilters>=1.4.1 in /usr/local/lib/python3.10/dist-packages (from nbconvert->notebook>=4.4.1->widgetsnbextension~=3.6.0->ipywidgets>=7.3.0->qiskit[visualization]) (1.5.0)\n",
            "Requirement already satisfied: tinycss2 in /usr/local/lib/python3.10/dist-packages (from nbconvert->notebook>=4.4.1->widgetsnbextension~=3.6.0->ipywidgets>=7.3.0->qiskit[visualization]) (1.2.1)\n",
            "Requirement already satisfied: fastjsonschema in /usr/local/lib/python3.10/dist-packages (from nbformat->notebook>=4.4.1->widgetsnbextension~=3.6.0->ipywidgets>=7.3.0->qiskit[visualization]) (2.16.3)\n",
            "Requirement already satisfied: jsonschema>=2.6 in /usr/local/lib/python3.10/dist-packages (from nbformat->notebook>=4.4.1->widgetsnbextension~=3.6.0->ipywidgets>=7.3.0->qiskit[visualization]) (4.3.3)\n",
            "Requirement already satisfied: attrs>=17.4.0 in /usr/local/lib/python3.10/dist-packages (from jsonschema>=2.6->nbformat->notebook>=4.4.1->widgetsnbextension~=3.6.0->ipywidgets>=7.3.0->qiskit[visualization]) (23.1.0)\n",
            "Requirement already satisfied: pyrsistent!=0.17.0,!=0.17.1,!=0.17.2,>=0.14.0 in /usr/local/lib/python3.10/dist-packages (from jsonschema>=2.6->nbformat->notebook>=4.4.1->widgetsnbextension~=3.6.0->ipywidgets>=7.3.0->qiskit[visualization]) (0.19.3)\n",
            "Requirement already satisfied: soupsieve>1.2 in /usr/local/lib/python3.10/dist-packages (from beautifulsoup4->nbconvert->notebook>=4.4.1->widgetsnbextension~=3.6.0->ipywidgets>=7.3.0->qiskit[visualization]) (2.4.1)\n",
            "Requirement already satisfied: webencodings in /usr/local/lib/python3.10/dist-packages (from bleach->nbconvert->notebook>=4.4.1->widgetsnbextension~=3.6.0->ipywidgets>=7.3.0->qiskit[visualization]) (0.5.1)\n"
          ]
        }
      ]
    },
    {
      "cell_type": "code",
      "execution_count": 10,
      "metadata": {
        "ExecuteTime": {
          "end_time": "2019-05-18T13:09:40.221604Z",
          "start_time": "2019-05-18T13:09:21.231281Z"
        },
        "id": "s23yk7GeSkVO"
      },
      "outputs": [],
      "source": [
        "from qiskit import BasicAer, execute\n",
        "from qiskit import QuantumCircuit, ClassicalRegister, QuantumRegister\n",
        "from qiskit.tools.visualization import plot_histogram\n",
        "import math"
      ]
    },
    {
      "cell_type": "code",
      "execution_count": 11,
      "metadata": {
        "ExecuteTime": {
          "end_time": "2019-05-18T13:09:42.176992Z",
          "start_time": "2019-05-18T13:09:42.169014Z"
        },
        "collapsed": true,
        "jupyter": {
          "outputs_hidden": true
        },
        "id": "2ABVolfGSkVP"
      },
      "outputs": [],
      "source": [
        "def circuit_2mod15(qc,qr,cr):\n",
        "    qc.cswap(qr[4],qr[3],qr[2])\n",
        "    qc.cswap(qr[4],qr[2],qr[1])\n",
        "    qc.cswap(qr[4],qr[1],qr[0])"
      ]
    },
    {
      "cell_type": "code",
      "execution_count": 12,
      "metadata": {
        "ExecuteTime": {
          "end_time": "2019-05-18T13:09:44.615393Z",
          "start_time": "2019-05-18T13:09:44.505687Z"
        },
        "collapsed": true,
        "jupyter": {
          "outputs_hidden": true
        },
        "id": "Dt7c2oSYSkVP"
      },
      "outputs": [],
      "source": [
        "def circuit_aperiod15(qc,qr,cr,a):\n",
        "    \n",
        "    # Initialize q[0] to |1> \n",
        "    qc.x(qr[0])\n",
        "\n",
        "    # Apply a**4 mod 15\n",
        "    # ------------------\n",
        "    qc.h(qr[4])\n",
        "    # Controlled identity on the remaining 4 qubits, which is equivalent to doing nothing\n",
        "    qc.h(qr[4])\n",
        "    # Measure quantum bit into classical bit\n",
        "    qc.measure(qr[4],cr[0])\n",
        "    # Reinitialise q[4] to |0>\n",
        "    qc.reset(qr[4])\n",
        "\n",
        "    # Apply a**2 mod 15\n",
        "    # ------------------\n",
        "    qc.h(qr[4])\n",
        "    # Controlled unitary: cx(self, ctl, tgt),\n",
        "    # apply CX from ctl to tgt\n",
        "    qc.cx(qr[4],qr[2])\n",
        "    qc.cx(qr[4],qr[0])\n",
        "    # Feed forward / U1 gate allows to apply a quantum phase, while 'c_if' adds a classical control register\n",
        "    # qc.u1(math.pi/2.,qr[4]).c_if(cr, 1)\n",
        "    qc.append(U1Gate(math.pi/2.), [qr[4]]).c_if(cr, 1)\n",
        "\n",
        "    qc.h(qr[4])\n",
        "    # Measure\n",
        "    qc.measure(qr[4],cr[1])\n",
        "    # Reinitialise q[4] to |0>\n",
        "    qc.reset(qr[4])\n",
        "\n",
        "    # Apply a mod 15\n",
        "    # ------------------\n",
        "    qc.h(qr[4])\n",
        "    # Controlled unitary\n",
        "    circuit_2mod15(qc,qr,cr)\n",
        "    # Feed forward\n",
        "    qc.append(U1Gate(math.pi/2.), [qr[4]]).c_if(cr, 1)\n",
        "\n",
        "    qc.append(U1Gate(3 * math.pi / 4.), [qr[4]]).c_if(cr, 3)\n",
        "    qc.append(U1Gate(math.pi / 2.), [qr[4]]).c_if(cr, 2)\n",
        "    qc.append(U1Gate(math.pi / 4.), [qr[4]]).c_if(cr, 1)\n",
        "    qc.h(qr[4])\n",
        "    # Measure\n",
        "    qc.measure(qr[4],cr[2])"
      ]
    },
    {
      "cell_type": "markdown",
      "metadata": {
        "id": "93xfUgHXSkVP"
      },
      "source": [
        "The following circuit follows the Kitaev's approach, described in the paper http://science.sciencemag.org/content/351/6277/1068.\n",
        "\n",
        "In short:\n",
        "\n",
        "The circuit described in the paper by Kitaev follows an approach that introduces optimizations to Shor's algorithm. \n",
        "\n",
        "1) These optimizations involve replacing the quantum Fourier transform (QFT) with a semiclassical QFT, where the Fourier transform is applied repeatedly on a single qubit instead of a larger number of qubits. This is achieved by using classical signals obtained from measurements to determine the type of measurement performed on the next qubit, thereby reducing the number of two-qubit gates required.\n",
        "\n",
        "2) Additionally, the circuit includes a conditional multiplication based on the most significant bit of the period register. This step optimizes the operation by efficiently mapping the state ${|1\\rangle \\rightarrow |a^{{2^{k}}} mod N \\rangle}$, where a high-fidelity multiplication is crucial for the overall performance of the algorithm.\n",
        "\n",
        "It's important to note that Kitaev's approach requires **specific experimental capabilities that have not yet been realized in a combined experiment**. These include in-sequence measurements, qubit recycling to reset measured qubits, feed-forward behavior based on previous measurement results, and controlled quantum operations. Despite these challenges, Kitaev's approach offers potential improvements in the performance of experimental realizations of Shor's algorithm.\n",
        "\n",
        "\n",
        "\n"
      ]
    },
    {
      "cell_type": "code",
      "execution_count": 13,
      "metadata": {
        "ExecuteTime": {
          "end_time": "2019-05-18T13:18:00.099427Z",
          "start_time": "2019-05-18T13:17:58.581898Z"
        },
        "colab": {
          "base_uri": "https://localhost:8080/",
          "height": 409
        },
        "id": "WOUTho1pSkVQ",
        "outputId": "21ab3528-0d67-4268-fc52-e50d55ad5e0b"
      },
      "outputs": [
        {
          "output_type": "execute_result",
          "data": {
            "text/plain": [
              "<Figure size 1876.11x535.111 with 1 Axes>"
            ],
            "image/png": "[encoded data removed]"
          },
          "metadata": {},
          "execution_count": 13
        }
      ],
      "source": [
        "from qiskit.circuit.library.standard_gates import U1Gate\n",
        "\n",
        "q = QuantumRegister(5, 'q')\n",
        "c = ClassicalRegister(5, 'c')\n",
        "\n",
        "shor = QuantumCircuit(q, c)\n",
        "circuit_aperiod15(shor,q,c,2)\n",
        "style = {'backgroundcolor': 'lightgreen'}\n",
        "shor.draw(output='mpl', style=style)"
      ]
    },
    {
      "cell_type": "code",
      "source": [
        "!pip install pylatexenc"
      ],
      "metadata": {
        "colab": {
          "base_uri": "https://localhost:8080/"
        },
        "id": "vVJWkZNclZr0",
        "outputId": "3a7265c4-fc91-4fea-9a37-e4b758aac4f9"
      },
      "execution_count": 14,
      "outputs": [
        {
          "output_type": "stream",
          "name": "stdout",
          "text": [
            "Looking in indexes: https://pypi.org/simple, https://us-python.pkg.dev/colab-wheels/public/simple/\n",
            "Requirement already satisfied: pylatexenc in /usr/local/lib/python3.10/dist-packages (2.10)\n"
          ]
        }
      ]
    },
    {
      "cell_type": "code",
      "execution_count": 15,
      "metadata": {
        "ExecuteTime": {
          "end_time": "2019-04-03T19:34:56.431851Z",
          "start_time": "2019-04-03T19:34:53.381109Z"
        },
        "colab": {
          "base_uri": "https://localhost:8080/",
          "height": 496
        },
        "id": "UlM6ZJ_1SkVQ",
        "outputId": "31376aaa-a2d9-401f-a332-da6c8c4e47d3"
      },
      "outputs": [
        {
          "output_type": "execute_result",
          "data": {
            "text/plain": [
              "<Figure size 700x500 with 1 Axes>"
            ],
            "image/png": "[encoded data removed]"
          },
          "metadata": {},
          "execution_count": 15
        }
      ],
      "source": [
        "backend = BasicAer.get_backend('qasm_simulator')\n",
        "sim_job = execute([shor], backend)\n",
        "sim_result = sim_job.result()\n",
        "sim_data = sim_result.get_counts(shor) \n",
        "plot_histogram(sim_data)\n",
        "\n",
        "# Link to the documentation of Qiskit Aer to model noise --> https://qiskit.org/documentation/aer/device_noise_simulation.html"
      ]
    },
    {
      "cell_type": "markdown",
      "metadata": {
        "id": "F2gO42KQSkVQ"
      },
      "source": [
        "After the measurements are performed in the circuit, we observe that the outcomes x = 0, 2, 4, and 6 occur with equal probabilities, accounting for some noise. In typical cases, at this stage, the continued fraction expansion for x/2^k would be used. However, in this specific scenario where r divides q (the desired period), there is no need to employ the continued fraction expansion. We can simply compute ${p = GCD(a^{r/2} + 1, 15) = 5}$ and ${q = GCD(a^{r/2} - 1, 15) = 3}$."
      ]
    },
    {
      "cell_type": "code",
      "source": [],
      "metadata": {
        "id": "ADu8YkODxyiK"
      },
      "execution_count": null,
      "outputs": []
    }
  ],
  "metadata": {
    "kernelspec": {
      "display_name": "Python 3",
      "language": "python",
      "name": "python3"
    },
    "language_info": {
      "codemirror_mode": {
        "name": "ipython",
        "version": 3
      },
      "file_extension": ".py",
      "mimetype": "text/x-python",
      "name": "python",
      "nbconvert_exporter": "python",
      "pygments_lexer": "ipython3",
      "version": "3.6.9"
    },
    "toc": {
      "base_numbering": 1,
      "nav_menu": {},
      "number_sections": false,
      "sideBar": true,
      "skip_h1_title": false,
      "title_cell": "Table of Contents",
      "title_sidebar": "Contents",
      "toc_cell": false,
      "toc_position": {},
      "toc_section_display": true,
      "toc_window_display": false
    },
    "colab": {
      "provenance": []
    }
  },
  "nbformat": 4,
  "nbformat_minor": 0
}